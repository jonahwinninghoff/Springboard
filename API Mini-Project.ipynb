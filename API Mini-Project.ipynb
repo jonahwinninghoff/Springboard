{
 "cells": [
  {
   "cell_type": "markdown",
   "metadata": {},
   "source": [
    "This exercise will require you to pull some data from the Qunadl API. Qaundl is currently the most widely used aggregator of financial market data."
   ]
  },
  {
   "cell_type": "markdown",
   "metadata": {},
   "source": [
    "As a first step, you will need to register a free account on the http://www.quandl.com website."
   ]
  },
  {
   "cell_type": "markdown",
   "metadata": {},
   "source": [
    "After you register, you will be provided with a unique API key, that you should store:"
   ]
  },
  {
   "cell_type": "code",
   "execution_count": 1,
   "metadata": {},
   "outputs": [],
   "source": [
    "# Store the API key as a string - according to PEP8, constants are always named in all upper case\n",
    "API_KEY = '5ySUbRtPumxeuYGufWym'"
   ]
  },
  {
   "cell_type": "markdown",
   "metadata": {},
   "source": [
    "Qaundl has a large number of data sources, but, unfortunately, most of them require a Premium subscription. Still, there are also a good number of free datasets."
   ]
  },
  {
   "cell_type": "markdown",
   "metadata": {},
   "source": [
    "For this mini project, we will focus on equities data from the Frankfurt Stock Exhange (FSE), which is available for free. We'll try and analyze the stock prices of a company called Carl Zeiss Meditec, which manufactures tools for eye examinations, as well as medical lasers for laser eye surgery: https://www.zeiss.com/meditec/int/home.html. The company is listed under the stock ticker AFX_X."
   ]
  },
  {
   "cell_type": "markdown",
   "metadata": {},
   "source": [
    "You can find the detailed Quandl API instructions here: https://docs.quandl.com/docs/time-series"
   ]
  },
  {
   "cell_type": "markdown",
   "metadata": {},
   "source": [
    "While there is a dedicated Python package for connecting to the Quandl API, we would prefer that you use the *requests* package, which can be easily downloaded using *pip* or *conda*. You can find the documentation for the package here: http://docs.python-requests.org/en/master/ "
   ]
  },
  {
   "cell_type": "markdown",
   "metadata": {},
   "source": [
    "Finally, apart from the *requests* package, you are encouraged to not use any third party Python packages, such as *pandas*, and instead focus on what's available in the Python Standard Library (the *collections* module might come in handy: https://pymotw.com/3/collections/ ).\n",
    "Also, since you won't have access to DataFrames, you are encouraged to us Python's native data structures - preferably dictionaries, though some questions can also be answered using lists.\n",
    "You can read more on these data structures here: https://docs.python.org/3/tutorial/datastructures.html"
   ]
  },
  {
   "cell_type": "markdown",
   "metadata": {},
   "source": [
    "Keep in mind that the JSON responses you will be getting from the API map almost one-to-one to Python's dictionaries. Unfortunately, they can be very nested, so make sure you read up on indexing dictionaries in the documentation provided above."
   ]
  },
  {
   "cell_type": "code",
   "execution_count": 2,
   "metadata": {},
   "outputs": [],
   "source": [
    "# First, import the relevant modules\n",
    "import requests\n",
    "import pandas as pd\n"
   ]
  },
  {
   "cell_type": "code",
   "execution_count": 3,
   "metadata": {},
   "outputs": [],
   "source": [
    "# Now, call the Quandl API and pull out a small sample of the data (only one day) to get a glimpse\n",
    "# into the JSON structure that will be returned\n",
    "url = 'https://www.quandl.com/api/v3/datasets/FSE/AFX_X/data.json?api_key='\n",
    "complete = url+API_KEY\n",
    "r = requests.get(complete)\n",
    "json_data = r.json()"
   ]
  },
  {
   "cell_type": "code",
   "execution_count": 4,
   "metadata": {},
   "outputs": [
    {
     "name": "stdout",
     "output_type": "stream",
     "text": [
      "The key is dataset_data and \n",
      "<class 'dict'>\n"
     ]
    }
   ],
   "source": [
    "# Inspect the JSON structure of the object you created, and take note of how nested it is,\n",
    "# as well as the overall structure\n",
    "json_dict = dict(json_data)\n",
    "thelist = []\n",
    "for i in json_dict.keys():\n",
    "    print('The key is ' + i + ' and ')\n",
    "    print(type(json_dict))\n",
    "    thelist.append(i)"
   ]
  },
  {
   "cell_type": "code",
   "execution_count": 5,
   "metadata": {},
   "outputs": [
    {
     "name": "stdout",
     "output_type": "stream",
     "text": [
      "The \"subkey\" is limit and \n",
      "<class 'NoneType'>\n",
      "The \"subkey\" is transform and \n",
      "<class 'NoneType'>\n",
      "The \"subkey\" is column_index and \n",
      "<class 'NoneType'>\n",
      "The \"subkey\" is column_names and \n",
      "<class 'list'>\n",
      "The \"subkey\" is start_date and \n",
      "<class 'str'>\n",
      "The \"subkey\" is end_date and \n",
      "<class 'str'>\n",
      "The \"subkey\" is frequency and \n",
      "<class 'str'>\n",
      "The \"subkey\" is data and \n",
      "<class 'list'>\n",
      "The \"subkey\" is collapse and \n",
      "<class 'NoneType'>\n",
      "The \"subkey\" is order and \n",
      "<class 'NoneType'>\n"
     ]
    }
   ],
   "source": [
    "secondlist = []\n",
    "for i in json_dict[i].keys():\n",
    "    secondlist.append(i)\n",
    "for i in secondlist:\n",
    "    print('The \"subkey\" is '+ i + ' and ')\n",
    "    print(type(json_dict[thelist[0]][i]))"
   ]
  },
  {
   "cell_type": "markdown",
   "metadata": {},
   "source": [
    "These are your tasks for this mini project:\n",
    "\n",
    "1. Collect data from the Franfurt Stock Exchange, for the ticker AFX_X, for the whole year 2017 (keep in mind that the date format is YYYY-MM-DD).\n",
    "2. Convert the returned JSON object into a Python dictionary.\n",
    "3. Calculate what the highest and lowest opening prices were for the stock in this period.\n",
    "4. What was the largest change in any one day (based on High and Low price)?\n",
    "5. What was the largest change between any two days (based on Closing Price)?\n",
    "6. What was the average daily trading volume during this year?\n",
    "7. (Optional) What was the median trading volume during this year. (Note: you may need to implement your own function for calculating the median.)"
   ]
  },
  {
   "cell_type": "code",
   "execution_count": 6,
   "metadata": {},
   "outputs": [],
   "source": [
    "df = pd.DataFrame(json_dict['dataset_data']['data'])          # Coerce data with no column names\n",
    "thedict = {}\n",
    "for i in df.columns:\n",
    "    thedict[i] = json_dict['dataset_data']['column_names'][i] # Populate dict specifically for renaming columns\n",
    "completed_df = df.rename(columns = thedict)                   # Rename column"
   ]
  },
  {
   "cell_type": "code",
   "execution_count": 7,
   "metadata": {},
   "outputs": [
    {
     "data": {
      "text/html": [
       "<div>\n",
       "<style scoped>\n",
       "    .dataframe tbody tr th:only-of-type {\n",
       "        vertical-align: middle;\n",
       "    }\n",
       "\n",
       "    .dataframe tbody tr th {\n",
       "        vertical-align: top;\n",
       "    }\n",
       "\n",
       "    .dataframe thead th {\n",
       "        text-align: right;\n",
       "    }\n",
       "</style>\n",
       "<table border=\"1\" class=\"dataframe\">\n",
       "  <thead>\n",
       "    <tr style=\"text-align: right;\">\n",
       "      <th></th>\n",
       "      <th>Open</th>\n",
       "      <th>High</th>\n",
       "      <th>Low</th>\n",
       "      <th>Close</th>\n",
       "      <th>Traded Volume</th>\n",
       "      <th>Turnover</th>\n",
       "    </tr>\n",
       "  </thead>\n",
       "  <tbody>\n",
       "    <tr>\n",
       "      <th>count</th>\n",
       "      <td>252.000000</td>\n",
       "      <td>255.000000</td>\n",
       "      <td>255.000000</td>\n",
       "      <td>255.000000</td>\n",
       "      <td>255.000000</td>\n",
       "      <td>2.550000e+02</td>\n",
       "    </tr>\n",
       "    <tr>\n",
       "      <th>mean</th>\n",
       "      <td>43.344206</td>\n",
       "      <td>43.702804</td>\n",
       "      <td>42.924373</td>\n",
       "      <td>43.364157</td>\n",
       "      <td>89124.337255</td>\n",
       "      <td>3.853589e+06</td>\n",
       "    </tr>\n",
       "    <tr>\n",
       "      <th>std</th>\n",
       "      <td>4.348585</td>\n",
       "      <td>4.365667</td>\n",
       "      <td>4.267225</td>\n",
       "      <td>4.321755</td>\n",
       "      <td>60441.130541</td>\n",
       "      <td>2.517807e+06</td>\n",
       "    </tr>\n",
       "    <tr>\n",
       "      <th>min</th>\n",
       "      <td>34.000000</td>\n",
       "      <td>34.120000</td>\n",
       "      <td>33.620000</td>\n",
       "      <td>34.060000</td>\n",
       "      <td>45.000000</td>\n",
       "      <td>1.980000e+03</td>\n",
       "    </tr>\n",
       "    <tr>\n",
       "      <th>25%</th>\n",
       "      <td>41.395000</td>\n",
       "      <td>41.580000</td>\n",
       "      <td>41.045000</td>\n",
       "      <td>41.400000</td>\n",
       "      <td>56282.000000</td>\n",
       "      <td>2.388636e+06</td>\n",
       "    </tr>\n",
       "    <tr>\n",
       "      <th>50%</th>\n",
       "      <td>43.450000</td>\n",
       "      <td>43.550000</td>\n",
       "      <td>42.620000</td>\n",
       "      <td>43.280000</td>\n",
       "      <td>76286.000000</td>\n",
       "      <td>3.292223e+06</td>\n",
       "    </tr>\n",
       "    <tr>\n",
       "      <th>75%</th>\n",
       "      <td>45.857500</td>\n",
       "      <td>46.195000</td>\n",
       "      <td>45.390000</td>\n",
       "      <td>45.850000</td>\n",
       "      <td>104479.000000</td>\n",
       "      <td>4.591904e+06</td>\n",
       "    </tr>\n",
       "    <tr>\n",
       "      <th>max</th>\n",
       "      <td>53.110000</td>\n",
       "      <td>53.540000</td>\n",
       "      <td>52.480000</td>\n",
       "      <td>53.090000</td>\n",
       "      <td>670349.000000</td>\n",
       "      <td>2.591054e+07</td>\n",
       "    </tr>\n",
       "  </tbody>\n",
       "</table>\n",
       "</div>"
      ],
      "text/plain": [
       "             Open        High         Low       Close  Traded Volume  \\\n",
       "count  252.000000  255.000000  255.000000  255.000000     255.000000   \n",
       "mean    43.344206   43.702804   42.924373   43.364157   89124.337255   \n",
       "std      4.348585    4.365667    4.267225    4.321755   60441.130541   \n",
       "min     34.000000   34.120000   33.620000   34.060000      45.000000   \n",
       "25%     41.395000   41.580000   41.045000   41.400000   56282.000000   \n",
       "50%     43.450000   43.550000   42.620000   43.280000   76286.000000   \n",
       "75%     45.857500   46.195000   45.390000   45.850000  104479.000000   \n",
       "max     53.110000   53.540000   52.480000   53.090000  670349.000000   \n",
       "\n",
       "           Turnover  \n",
       "count  2.550000e+02  \n",
       "mean   3.853589e+06  \n",
       "std    2.517807e+06  \n",
       "min    1.980000e+03  \n",
       "25%    2.388636e+06  \n",
       "50%    3.292223e+06  \n",
       "75%    4.591904e+06  \n",
       "max    2.591054e+07  "
      ]
     },
     "metadata": {},
     "output_type": "display_data"
    }
   ],
   "source": [
    "# Only focus on 2017\n",
    "completed_df = completed_df[(completed_df['Date'] < '2018-01-01') & (completed_df['Date'] >= '2017-01-01')]\n",
    "\n",
    "# Build funciton to eliminate any columns that contain single value or 0\n",
    "def rm_emp_col(data):\n",
    "    thelist = data.nunique()                                                        # Count each unique\n",
    "    filtered = pd.DataFrame(thelist[thelist <= 1]).reset_index()['index'].unique()  # Select columns: 1 or 0 unique\n",
    "    return data.drop(filtered,axis = 1)                                             # Remove these columns\n",
    "\n",
    "cleaned_df = rm_emp_col(completed_df)\n",
    "display(cleaned_df.describe())        # 3.) Highest Open: $53.11; Lowest Open: $34.00\n",
    "                                      # 6.) Mean Trading Volumne: 89,124.34"
   ]
  },
  {
   "cell_type": "code",
   "execution_count": 8,
   "metadata": {},
   "outputs": [
    {
     "data": {
      "text/html": [
       "<div>\n",
       "<style scoped>\n",
       "    .dataframe tbody tr th:only-of-type {\n",
       "        vertical-align: middle;\n",
       "    }\n",
       "\n",
       "    .dataframe tbody tr th {\n",
       "        vertical-align: top;\n",
       "    }\n",
       "\n",
       "    .dataframe thead th {\n",
       "        text-align: right;\n",
       "    }\n",
       "</style>\n",
       "<table border=\"1\" class=\"dataframe\">\n",
       "  <thead>\n",
       "    <tr style=\"text-align: right;\">\n",
       "      <th></th>\n",
       "      <th>Date</th>\n",
       "      <th>High_Diff</th>\n",
       "    </tr>\n",
       "  </thead>\n",
       "  <tbody>\n",
       "    <tr>\n",
       "      <th>889</th>\n",
       "      <td>2017-05-10</td>\n",
       "      <td>0.053409</td>\n",
       "    </tr>\n",
       "  </tbody>\n",
       "</table>\n",
       "</div>"
      ],
      "text/plain": [
       "           Date  High_Diff\n",
       "889  2017-05-10   0.053409"
      ]
     },
     "metadata": {},
     "output_type": "display_data"
    },
    {
     "data": {
      "text/html": [
       "<div>\n",
       "<style scoped>\n",
       "    .dataframe tbody tr th:only-of-type {\n",
       "        vertical-align: middle;\n",
       "    }\n",
       "\n",
       "    .dataframe tbody tr th {\n",
       "        vertical-align: top;\n",
       "    }\n",
       "\n",
       "    .dataframe thead th {\n",
       "        text-align: right;\n",
       "    }\n",
       "</style>\n",
       "<table border=\"1\" class=\"dataframe\">\n",
       "  <thead>\n",
       "    <tr style=\"text-align: right;\">\n",
       "      <th></th>\n",
       "      <th>Date</th>\n",
       "      <th>Low_Diff</th>\n",
       "    </tr>\n",
       "  </thead>\n",
       "  <tbody>\n",
       "    <tr>\n",
       "      <th>753</th>\n",
       "      <td>2017-11-21</td>\n",
       "      <td>0.033271</td>\n",
       "    </tr>\n",
       "  </tbody>\n",
       "</table>\n",
       "</div>"
      ],
      "text/plain": [
       "           Date  Low_Diff\n",
       "753  2017-11-21  0.033271"
      ]
     },
     "metadata": {},
     "output_type": "display_data"
    }
   ],
   "source": [
    "# 4.) What was the largest change in any one day (based on High and Low price)?\n",
    "cleaned_df['High_Diff'] = (cleaned_df['High'].shift(periods=1) - cleaned_df[   # Use percentage change formula\n",
    "    'High'])/cleaned_df['High'].shift(periods=1).abs()\n",
    "cleaned_df['Low_Diff'] = (cleaned_df['Low'].shift(periods=1) - cleaned_df[\n",
    "    'Low'])/cleaned_df['Low'].shift(periods=1).abs()\n",
    "\n",
    "display(cleaned_df[cleaned_df['High_Diff'] == cleaned_df['High_Diff'].max()][['Date','High_Diff']])\n",
    "display(cleaned_df[cleaned_df['Low_Diff'] == cleaned_df['Low_Diff'].max()][['Date','Low_Diff']])"
   ]
  },
  {
   "cell_type": "code",
   "execution_count": 9,
   "metadata": {},
   "outputs": [
    {
     "data": {
      "text/html": [
       "<div>\n",
       "<style scoped>\n",
       "    .dataframe tbody tr th:only-of-type {\n",
       "        vertical-align: middle;\n",
       "    }\n",
       "\n",
       "    .dataframe tbody tr th {\n",
       "        vertical-align: top;\n",
       "    }\n",
       "\n",
       "    .dataframe thead th {\n",
       "        text-align: right;\n",
       "    }\n",
       "</style>\n",
       "<table border=\"1\" class=\"dataframe\">\n",
       "  <thead>\n",
       "    <tr style=\"text-align: right;\">\n",
       "      <th></th>\n",
       "      <th>Date</th>\n",
       "      <th>Close_Diff</th>\n",
       "    </tr>\n",
       "  </thead>\n",
       "  <tbody>\n",
       "    <tr>\n",
       "      <th>953</th>\n",
       "      <td>2017-02-09</td>\n",
       "      <td>0.059175</td>\n",
       "    </tr>\n",
       "  </tbody>\n",
       "</table>\n",
       "</div>"
      ],
      "text/plain": [
       "           Date  Close_Diff\n",
       "953  2017-02-09    0.059175"
      ]
     },
     "metadata": {},
     "output_type": "display_data"
    }
   ],
   "source": [
    "# 5.) What was the largest change between any two days (based on Closing Price)?\n",
    "cleaned_df['Close_Diff'] = (cleaned_df['Close'].shift(periods=2) - cleaned_df[   # Use percentage change formula\n",
    "    'Close'])/cleaned_df['Close'].shift(periods=2).abs()\n",
    "\n",
    "display(cleaned_df[cleaned_df['Close_Diff'] == cleaned_df['Close_Diff'].max()][['Date','Close_Diff']])"
   ]
  },
  {
   "cell_type": "code",
   "execution_count": 10,
   "metadata": {},
   "outputs": [
    {
     "name": "stdout",
     "output_type": "stream",
     "text": [
      "The median trading volumen during this year is 76286.0.\n"
     ]
    }
   ],
   "source": [
    "# 7.) (Optional) What was the median trading volume during this year?\n",
    "print('The median trading volumen during this year is '+str(cleaned_df['Traded Volume'].median())+'.')"
   ]
  }
 ],
 "metadata": {
  "kernelspec": {
   "display_name": "Python 3",
   "language": "python",
   "name": "python3"
  },
  "language_info": {
   "codemirror_mode": {
    "name": "ipython",
    "version": 3
   },
   "file_extension": ".py",
   "mimetype": "text/x-python",
   "name": "python",
   "nbconvert_exporter": "python",
   "pygments_lexer": "ipython3",
   "version": "3.8.5"
  }
 },
 "nbformat": 4,
 "nbformat_minor": 2
}
